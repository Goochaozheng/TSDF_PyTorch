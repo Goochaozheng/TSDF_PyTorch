{
 "metadata": {
  "language_info": {
   "codemirror_mode": {
    "name": "ipython",
    "version": 3
   },
   "file_extension": ".py",
   "mimetype": "text/x-python",
   "name": "python",
   "nbconvert_exporter": "python",
   "pygments_lexer": "ipython3",
   "version": "3.7.6"
  },
  "orig_nbformat": 2,
  "kernelspec": {
   "name": "python376jvsc74a57bd01c4a4480174af54ece5d334ae0b3795bb9f3fb38b770d4bceb0c24fc396c2c84",
   "display_name": "Python 3.7.6 64-bit ('routed-fusion': conda)"
  },
  "metadata": {
   "interpreter": {
    "hash": "31f2aee4e71d21fbe5cf8b01ff0e069b9275f58929596ceb00d14d90e3e16cd6"
   }
  }
 },
 "nbformat": 4,
 "nbformat_minor": 2,
 "cells": [
  {
   "cell_type": "code",
   "execution_count": 15,
   "metadata": {},
   "outputs": [],
   "source": [
    "import open3d as o3d\n",
    "import numpy as np\n",
    "import torch"
   ]
  },
  {
   "cell_type": "code",
   "execution_count": 7,
   "metadata": {},
   "outputs": [],
   "source": [
    "mesh = o3d.io.read_triangle_mesh(\"mesh/0.ply\")"
   ]
  },
  {
   "cell_type": "code",
   "execution_count": 8,
   "metadata": {},
   "outputs": [
    {
     "output_type": "execute_result",
     "data": {
      "text/plain": [
       "std::vector<Eigen::Vector3i> with 112416 elements.\n",
       "Use numpy.asarray() to access data."
      ]
     },
     "metadata": {},
     "execution_count": 8
    }
   ],
   "source": [
    "mesh.triangles"
   ]
  },
  {
   "cell_type": "code",
   "execution_count": 15,
   "metadata": {},
   "outputs": [],
   "source": [
    "vertices = np.asarray(mesh.vertices)\n",
    "triangles = np.asarray(mesh.triangles)"
   ]
  },
  {
   "cell_type": "code",
   "execution_count": 14,
   "metadata": {},
   "outputs": [
    {
     "output_type": "execute_result",
     "data": {
      "text/plain": [
       "(56470, 3)"
      ]
     },
     "metadata": {},
     "execution_count": 14
    }
   ],
   "source": [
    "vertices.shape"
   ]
  },
  {
   "cell_type": "code",
   "execution_count": 17,
   "metadata": {},
   "outputs": [
    {
     "output_type": "execute_result",
     "data": {
      "text/plain": [
       "array([[ 2,  1,  0],\n",
       "       [ 3,  0,  1],\n",
       "       [ 6,  5,  4],\n",
       "       [ 7,  4,  5],\n",
       "       [ 8,  2,  0],\n",
       "       [ 8,  0,  3],\n",
       "       [ 9,  6,  4],\n",
       "       [ 9,  4,  7],\n",
       "       [12, 11, 10],\n",
       "       [14, 13, 10]], dtype=int32)"
      ]
     },
     "metadata": {},
     "execution_count": 17
    }
   ],
   "source": [
    "triangles[:10, :]"
   ]
  },
  {
   "cell_type": "code",
   "execution_count": 10,
   "metadata": {},
   "outputs": [],
   "source": [
    "o3d.visualization.draw_geometries([mesh])"
   ]
  },
  {
   "cell_type": "code",
   "execution_count": 11,
   "metadata": {},
   "outputs": [
    {
     "output_type": "execute_result",
     "data": {
      "text/plain": [
       "open3d.cuda.pybind.geometry.TriangleMesh"
      ]
     },
     "metadata": {},
     "execution_count": 11
    }
   ],
   "source": [
    "type(mesh)"
   ]
  },
  {
   "cell_type": "code",
   "execution_count": null,
   "metadata": {},
   "outputs": [],
   "source": [
    "mesh_new = o3d.geometry.TriangleMesh()\n",
    "mesh_new.vertices"
   ]
  },
  {
   "cell_type": "code",
   "execution_count": 19,
   "metadata": {},
   "outputs": [],
   "source": [
    "volume = o3d.pipelines.integration.ScalableTSDFVolume(\n",
    "    voxel_length=4.0 / 512.0,\n",
    "    sdf_trunc=0.04,\n",
    "    color_type=o3d.pipelines.integration.TSDFVolumeColorType.RGB8)"
   ]
  },
  {
   "cell_type": "code",
   "execution_count": null,
   "metadata": {},
   "outputs": [],
   "source": [
    "volume.extract_triangle_mesh()"
   ]
  },
  {
   "cell_type": "code",
   "execution_count": 37,
   "metadata": {},
   "outputs": [],
   "source": [
    "xx, yy, zz = torch.meshgrid(\n",
    "    torch.arange(10),\n",
    "    torch.arange(20),\n",
    "    torch.arange(30)\n",
    ")"
   ]
  },
  {
   "cell_type": "code",
   "execution_count": 50,
   "metadata": {},
   "outputs": [],
   "source": [
    "coords = torch.cat([\n",
    "    xx.reshape(1, -1),\n",
    "    yy.reshape(1, -1),\n",
    "    zz.reshape(1, -1)\n",
    "], dim=0).int().T"
   ]
  },
  {
   "cell_type": "code",
   "execution_count": 51,
   "metadata": {},
   "outputs": [
    {
     "output_type": "execute_result",
     "data": {
      "text/plain": [
       "tensor([ 0,  0, 10], dtype=torch.int32)"
      ]
     },
     "metadata": {},
     "execution_count": 51
    }
   ],
   "source": [
    "coords[10]"
   ]
  },
  {
   "cell_type": "code",
   "execution_count": 56,
   "metadata": {},
   "outputs": [
    {
     "output_type": "execute_result",
     "data": {
      "text/plain": [
       "tensor([[ 0,  0,  0],\n",
       "        [ 0,  0,  1],\n",
       "        [ 0,  0,  2],\n",
       "        ...,\n",
       "        [ 9, 19, 27],\n",
       "        [ 9, 19, 28],\n",
       "        [ 9, 19, 29]], device='cuda:0', dtype=torch.int32)"
      ]
     },
     "metadata": {},
     "execution_count": 56
    }
   ],
   "source": [
    "coords.cuda()"
   ]
  },
  {
   "cell_type": "code",
   "execution_count": null,
   "metadata": {},
   "outputs": [],
   "source": []
  },
  {
   "cell_type": "code",
   "execution_count": 53,
   "metadata": {},
   "outputs": [
    {
     "output_type": "execute_result",
     "data": {
      "text/plain": [
       "True"
      ]
     },
     "metadata": {},
     "execution_count": 53
    }
   ],
   "source": [
    "torch.cuda.is_available()"
   ]
  },
  {
   "cell_type": "code",
   "execution_count": 26,
   "metadata": {},
   "outputs": [],
   "source": [
    "coords_homo = torch.from_numpy(coords)\n",
    "coords_homo = torch.cat([coords_homo, torch.ones(coords.shape[0]).unsqueeze(-1)], 1) "
   ]
  },
  {
   "cell_type": "code",
   "execution_count": 27,
   "metadata": {},
   "outputs": [
    {
     "output_type": "execute_result",
     "data": {
      "text/plain": [
       "torch.Size([6000, 4])"
      ]
     },
     "metadata": {},
     "execution_count": 27
    }
   ],
   "source": [
    "coords_homo.shape"
   ]
  },
  {
   "cell_type": "code",
   "execution_count": 28,
   "metadata": {},
   "outputs": [
    {
     "output_type": "execute_result",
     "data": {
      "text/plain": [
       "tensor([[ 0.,  0.,  0.,  1.],\n",
       "        [ 0.,  0.,  1.,  1.],\n",
       "        [ 0.,  0.,  2.,  1.],\n",
       "        ...,\n",
       "        [ 9., 19., 27.,  1.],\n",
       "        [ 9., 19., 28.,  1.],\n",
       "        [ 9., 19., 29.,  1.]])"
      ]
     },
     "metadata": {},
     "execution_count": 28
    }
   ],
   "source": [
    "coords_homo"
   ]
  },
  {
   "cell_type": "code",
   "execution_count": 33,
   "metadata": {},
   "outputs": [],
   "source": [
    "T = torch.eye(4)\n",
    "T[3,0] = 1"
   ]
  },
  {
   "cell_type": "code",
   "execution_count": 34,
   "metadata": {},
   "outputs": [
    {
     "output_type": "execute_result",
     "data": {
      "text/plain": [
       "tensor([[ 1.,  0.,  0.,  1.],\n",
       "        [ 1.,  0.,  1.,  1.],\n",
       "        [ 1.,  0.,  2.,  1.],\n",
       "        ...,\n",
       "        [10., 19., 27.,  1.],\n",
       "        [10., 19., 28.,  1.],\n",
       "        [10., 19., 29.,  1.]])"
      ]
     },
     "metadata": {},
     "execution_count": 34
    }
   ],
   "source": [
    "coords_homo @ T"
   ]
  },
  {
   "cell_type": "code",
   "execution_count": null,
   "metadata": {},
   "outputs": [],
   "source": []
  }
 ]
}